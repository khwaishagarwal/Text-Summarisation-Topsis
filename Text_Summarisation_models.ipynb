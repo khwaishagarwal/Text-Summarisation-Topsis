{
  "cells": [
    {
      "cell_type": "markdown",
      "metadata": {
        "id": "view-in-github",
        "colab_type": "text"
      },
      "source": [
        "<a href=\"https://colab.research.google.com/github/khwaishagarwal/Text-Summarisation-Topsis/blob/main/Text_Summarisation_models.ipynb\" target=\"_parent\"><img src=\"https://colab.research.google.com/assets/colab-badge.svg\" alt=\"Open In Colab\"/></a>"
      ]
    },
    {
      "cell_type": "code",
      "execution_count": null,
      "id": "7dac421e-1b33-4dbc-8f89-a41ff86340fe",
      "metadata": {
        "id": "7dac421e-1b33-4dbc-8f89-a41ff86340fe"
      },
      "outputs": [],
      "source": [
        "import pandas as pd"
      ]
    },
    {
      "cell_type": "code",
      "execution_count": null,
      "id": "01ed88a9-92f8-43fd-92d6-5c5325ea4aed",
      "metadata": {
        "id": "01ed88a9-92f8-43fd-92d6-5c5325ea4aed"
      },
      "outputs": [],
      "source": [
        "dataset = pd.read_csv(\"test.csv\")\n",
        "sample_text = dataset[\"article\"][0]\n",
        "reference_summary = dataset[\"highlights\"][0]"
      ]
    },
    {
      "cell_type": "code",
      "execution_count": null,
      "id": "9db607ab-d0f1-41ab-be04-6cfec2c372dd",
      "metadata": {
        "id": "9db607ab-d0f1-41ab-be04-6cfec2c372dd",
        "outputId": "bbd24d64-a99b-4dd3-9daa-7c988a8e8a2a"
      },
      "outputs": [
        {
          "data": {
            "text/plain": [
              "\"Ever noticed how plane seats appear to be getting smaller and smaller? With increasing numbers of people taking to the skies, some experts are questioning if having such packed out planes is putting passengers at risk. They say that the shrinking space on aeroplanes is not only uncomfortable - it's putting our health and safety in danger. More than squabbling over the arm rest, shrinking space on planes putting our health and safety in danger? This week, a U.S consumer advisory group set up by the Department of Transportation said at a public hearing that while the government is happy to set standards for animals flying on planes, it doesn't stipulate a minimum amount of space for humans. 'In a world where animals have more rights to space and food than humans,' said Charlie Leocha, consumer representative on the committee.\\xa0'It is time that the DOT and FAA take a stand for humane treatment of passengers.' But could crowding on planes lead to more serious issues than fighting for space in the overhead lockers, crashing elbows and seat back kicking? Tests conducted by the FAA use planes with a 31 inch pitch, a standard which on some airlines has decreased . Many economy seats on United Airlines have 30 inches of room, while some airlines offer as little as 28 inches . Cynthia Corbertt, a human factors researcher with the Federal Aviation Administration, that it conducts tests on how quickly passengers can leave a plane. But these tests are conducted using planes with 31 inches between each row of seats, a standard which on some airlines has decreased, reported the Detroit News. The distance between two seats from one point on a seat to the same point on the seat behind it is known as the pitch. While most airlines stick to a pitch of 31 inches or above, some fall below this. While United Airlines has 30 inches of space, Gulf Air economy seats have between 29 and 32 inches, Air Asia offers 29 inches and Spirit Airlines offers just 28 inches. British Airways has a seat pitch of 31 inches, while easyJet has 29 inches, Thomson's short haul seat pitch is 28 inches, and Virgin Atlantic's is 30-31.\""
            ]
          },
          "execution_count": 3,
          "metadata": {},
          "output_type": "execute_result"
        }
      ],
      "source": [
        "sample_text"
      ]
    },
    {
      "cell_type": "code",
      "execution_count": null,
      "id": "aebf117a-c039-4b73-aa7e-c0e903034ecb",
      "metadata": {
        "id": "aebf117a-c039-4b73-aa7e-c0e903034ecb",
        "outputId": "44d3d81f-39ff-429a-d0c3-921bfb07e50e"
      },
      "outputs": [
        {
          "data": {
            "text/plain": [
              "'Experts question if  packed out planes are putting passengers at risk .\\nU.S consumer advisory group says minimum space must be stipulated .\\nSafety tests conducted on planes with more leg room than airlines offer .'"
            ]
          },
          "execution_count": 4,
          "metadata": {},
          "output_type": "execute_result"
        }
      ],
      "source": [
        "reference_summary"
      ]
    },
    {
      "cell_type": "code",
      "execution_count": null,
      "id": "72c0eeed-d3ea-4a7e-b8b1-88a516a49316",
      "metadata": {
        "id": "72c0eeed-d3ea-4a7e-b8b1-88a516a49316"
      },
      "outputs": [],
      "source": [
        "from transformers import pipeline"
      ]
    },
    {
      "cell_type": "code",
      "execution_count": null,
      "id": "a1556651-7cf2-464a-936a-0fd741470499",
      "metadata": {
        "id": "a1556651-7cf2-464a-936a-0fd741470499",
        "outputId": "39e89d72-51af-4821-bb56-9b09305a8207"
      },
      "outputs": [
        {
          "name": "stderr",
          "output_type": "stream",
          "text": [
            "Device set to use mps:0\n"
          ]
        }
      ],
      "source": [
        "summarizer1 = pipeline(\"summarization\", model=\"facebook/bart-large-cnn\")"
      ]
    },
    {
      "cell_type": "code",
      "execution_count": null,
      "id": "e22f1498-b00b-447e-a3db-37b7df5755f6",
      "metadata": {
        "id": "e22f1498-b00b-447e-a3db-37b7df5755f6"
      },
      "outputs": [],
      "source": [
        "summary1 = summarizer1(sample_text, max_length=130, min_length=30, do_sample=False)[0]['summary_text']"
      ]
    },
    {
      "cell_type": "code",
      "execution_count": null,
      "id": "3dc748d4-426e-4e08-aff4-fbe398a384ae",
      "metadata": {
        "id": "3dc748d4-426e-4e08-aff4-fbe398a384ae",
        "outputId": "335214a0-e47d-4099-d6af-1634846f2255"
      },
      "outputs": [
        {
          "data": {
            "text/plain": [
              "\"U.S consumer advisory group set up by Department of Transportation said that while the government is happy to set standards for animals flying on planes, it doesn't stipulate a minimum amount of space for humans. Tests conducted by the FAA use planes with a 31 inch pitch, a standard which on some airlines has decreased.\""
            ]
          },
          "execution_count": 8,
          "metadata": {},
          "output_type": "execute_result"
        }
      ],
      "source": [
        "summary1"
      ]
    },
    {
      "cell_type": "code",
      "execution_count": null,
      "id": "9c3434e7-8e10-4f1e-af1f-42cdf29bdb4d",
      "metadata": {
        "id": "9c3434e7-8e10-4f1e-af1f-42cdf29bdb4d",
        "outputId": "959118c2-9797-4d26-f1dd-c05553d2a946"
      },
      "outputs": [
        {
          "name": "stderr",
          "output_type": "stream",
          "text": [
            "Device set to use mps:0\n"
          ]
        }
      ],
      "source": [
        "summarizer2 = pipeline(\"summarization\", model=\"Falconsai/text_summarization\")"
      ]
    },
    {
      "cell_type": "code",
      "execution_count": null,
      "id": "61c89e5f-adc5-40f5-af29-2187f5254be2",
      "metadata": {
        "id": "61c89e5f-adc5-40f5-af29-2187f5254be2"
      },
      "outputs": [],
      "source": [
        "summary2 = summarizer2(sample_text, max_length=130, min_length=30, do_sample=False)[0]['summary_text']"
      ]
    },
    {
      "cell_type": "code",
      "execution_count": null,
      "id": "6d7ab46e-6905-4eb8-9c86-279061b601f3",
      "metadata": {
        "id": "6d7ab46e-6905-4eb8-9c86-279061b601f3",
        "outputId": "616e6870-af64-483b-efcd-87868e7cde67"
      },
      "outputs": [
        {
          "data": {
            "text/plain": [
              "\"a consumer advisory group set up by the Department of Transportation said this week that while the government is happy to set standards for animals flying on planes, it doesn't stipulate a minimum amount of space for humans . Many economy seats on United Airlines have 30 inches of space, while some airlines offer as little as 28 inches . The distance between two seats from one point on a seat to the same point on the seat behind it is known as the pitch .\""
            ]
          },
          "execution_count": 11,
          "metadata": {},
          "output_type": "execute_result"
        }
      ],
      "source": [
        "summary2"
      ]
    },
    {
      "cell_type": "code",
      "execution_count": null,
      "id": "0cc7912e-ffea-4fd9-85db-54ac72146f7c",
      "metadata": {
        "id": "0cc7912e-ffea-4fd9-85db-54ac72146f7c",
        "outputId": "18be329b-ba9d-4084-80c3-20b30b25395c"
      },
      "outputs": [
        {
          "name": "stderr",
          "output_type": "stream",
          "text": [
            "Some weights of PegasusForConditionalGeneration were not initialized from the model checkpoint at google/pegasus-cnn_dailymail and are newly initialized: ['model.decoder.embed_positions.weight', 'model.encoder.embed_positions.weight']\n",
            "You should probably TRAIN this model on a down-stream task to be able to use it for predictions and inference.\n",
            "Device set to use mps:0\n"
          ]
        }
      ],
      "source": [
        "summarizer3 = pipeline(\"summarization\", model=\"google/pegasus-cnn_dailymail\")"
      ]
    },
    {
      "cell_type": "code",
      "execution_count": null,
      "id": "415161b7-ec93-44c3-b159-79ba40ab9fd4",
      "metadata": {
        "id": "415161b7-ec93-44c3-b159-79ba40ab9fd4"
      },
      "outputs": [],
      "source": [
        "summary3 = summarizer3(sample_text, max_length=130, min_length=30, do_sample=False)[0]['summary_text']"
      ]
    },
    {
      "cell_type": "code",
      "execution_count": null,
      "id": "c97deec7-870a-4581-83d0-d9583047b477",
      "metadata": {
        "id": "c97deec7-870a-4581-83d0-d9583047b477",
        "outputId": "4b30bd72-77e8-48a3-cc60-468aaa9f6479"
      },
      "outputs": [
        {
          "data": {
            "text/plain": [
              "'Many economy seats on United Airlines have 30 inches of room .<n>Some airlines offer as little as 28 inches of space .<n>The FAA conducts tests on how quickly passengers can leave a plane .<n>These tests are conducted using planes with 31 inches between each row .<n>While most airlines stick to a pitch of 31 inches or above, some fall below this .'"
            ]
          },
          "execution_count": 14,
          "metadata": {},
          "output_type": "execute_result"
        }
      ],
      "source": [
        "summary3"
      ]
    },
    {
      "cell_type": "code",
      "execution_count": null,
      "id": "120f98cd-4db2-4df2-9645-326c014dfa78",
      "metadata": {
        "id": "120f98cd-4db2-4df2-9645-326c014dfa78",
        "outputId": "10fca54b-5e50-4202-f001-58bc58c2ec8d",
        "colab": {
          "referenced_widgets": [
            "4e1cea44653f4ac1a36c3961fc2224be"
          ]
        }
      },
      "outputs": [
        {
          "name": "stderr",
          "output_type": "stream",
          "text": [
            "You are using the default legacy behaviour of the <class 'transformers.models.t5.tokenization_t5.T5Tokenizer'>. This is expected, and simply means that the `legacy` (previous) behavior will be used so nothing changes for you. If you want to use the new behaviour, set `legacy=False`. This should only be set if you understand what it means, and thoroughly read the reason why this was added as explained in https://github.com/huggingface/transformers/pull/24565\n",
            "/opt/anaconda3/lib/python3.12/site-packages/transformers/convert_slow_tokenizer.py:561: UserWarning: The sentencepiece tokenizer that you are converting to a fast tokenizer uses the byte fallback option which is not implemented in the fast tokenizers. In practice this means that the fast version of the tokenizer can produce unknown tokens whereas the sentencepiece version would have converted these unknown tokens into a sequence of byte tokens matching the original piece of text.\n",
            "  warnings.warn(\n",
            "Device set to use mps:0\n"
          ]
        },
        {
          "data": {
            "application/vnd.jupyter.widget-view+json": {
              "model_id": "4e1cea44653f4ac1a36c3961fc2224be",
              "version_major": 2,
              "version_minor": 0
            },
            "text/plain": [
              "model.safetensors:  71%|#######1  | 1.66G/2.33G [00:00<?, ?B/s]"
            ]
          },
          "metadata": {},
          "output_type": "display_data"
        },
        {
          "name": "stderr",
          "output_type": "stream",
          "text": [
            "huggingface/tokenizers: The current process just got forked, after parallelism has already been used. Disabling parallelism to avoid deadlocks...\n",
            "To disable this warning, you can either:\n",
            "\t- Avoid using `tokenizers` before the fork if possible\n",
            "\t- Explicitly set the environment variable TOKENIZERS_PARALLELISM=(true | false)\n"
          ]
        }
      ],
      "source": [
        "summarizer4 = pipeline(\"summarization\", model=\"csebuetnlp/mT5_multilingual_XLSum\")"
      ]
    },
    {
      "cell_type": "code",
      "execution_count": null,
      "id": "45a0b8bd-1c57-4df8-b4de-4f96a12fbafc",
      "metadata": {
        "id": "45a0b8bd-1c57-4df8-b4de-4f96a12fbafc"
      },
      "outputs": [],
      "source": [
        "summary4 = summarizer4(sample_text, max_length=130, min_length=30, do_sample=False)[0]['summary_text']"
      ]
    },
    {
      "cell_type": "code",
      "execution_count": null,
      "id": "dc44c276-47da-43aa-977c-52e26e5d1221",
      "metadata": {
        "id": "dc44c276-47da-43aa-977c-52e26e5d1221",
        "outputId": "2f551226-65dc-417d-c117-e8987fa87668"
      },
      "outputs": [
        {
          "data": {
            "text/plain": [
              "'A growing number of passengers are taking to the skies with their planes, but what does it mean for those flying?'"
            ]
          },
          "execution_count": 17,
          "metadata": {},
          "output_type": "execute_result"
        }
      ],
      "source": [
        "summary4"
      ]
    },
    {
      "cell_type": "code",
      "execution_count": null,
      "id": "1e24e259-4081-4879-94a6-ed1ec2783282",
      "metadata": {
        "id": "1e24e259-4081-4879-94a6-ed1ec2783282",
        "outputId": "728e40c0-0aa5-4895-aa19-6398b33fb676"
      },
      "outputs": [
        {
          "name": "stderr",
          "output_type": "stream",
          "text": [
            "huggingface/tokenizers: The current process just got forked, after parallelism has already been used. Disabling parallelism to avoid deadlocks...\n",
            "To disable this warning, you can either:\n",
            "\t- Avoid using `tokenizers` before the fork if possible\n",
            "\t- Explicitly set the environment variable TOKENIZERS_PARALLELISM=(true | false)\n"
          ]
        },
        {
          "name": "stdout",
          "output_type": "stream",
          "text": [
            "Requirement already satisfied: rouge in /opt/anaconda3/lib/python3.12/site-packages (1.0.1)\n",
            "Requirement already satisfied: bert_score in /opt/anaconda3/lib/python3.12/site-packages (0.3.13)\n",
            "Requirement already satisfied: six in /opt/anaconda3/lib/python3.12/site-packages (from rouge) (1.16.0)\n",
            "Requirement already satisfied: torch>=1.0.0 in /opt/anaconda3/lib/python3.12/site-packages (from bert_score) (2.4.1)\n",
            "Requirement already satisfied: pandas>=1.0.1 in /opt/anaconda3/lib/python3.12/site-packages (from bert_score) (2.2.2)\n",
            "Requirement already satisfied: transformers>=3.0.0 in /opt/anaconda3/lib/python3.12/site-packages (from bert_score) (4.48.1)\n",
            "Requirement already satisfied: numpy in /opt/anaconda3/lib/python3.12/site-packages (from bert_score) (1.26.4)\n",
            "Requirement already satisfied: requests in /opt/anaconda3/lib/python3.12/site-packages (from bert_score) (2.32.2)\n",
            "Requirement already satisfied: tqdm>=4.31.1 in /opt/anaconda3/lib/python3.12/site-packages (from bert_score) (4.66.4)\n",
            "Requirement already satisfied: matplotlib in /opt/anaconda3/lib/python3.12/site-packages (from bert_score) (3.8.4)\n",
            "Requirement already satisfied: packaging>=20.9 in /opt/anaconda3/lib/python3.12/site-packages (from bert_score) (23.2)\n",
            "Requirement already satisfied: python-dateutil>=2.8.2 in /opt/anaconda3/lib/python3.12/site-packages (from pandas>=1.0.1->bert_score) (2.9.0.post0)\n",
            "Requirement already satisfied: pytz>=2020.1 in /opt/anaconda3/lib/python3.12/site-packages (from pandas>=1.0.1->bert_score) (2024.1)\n",
            "Requirement already satisfied: tzdata>=2022.7 in /opt/anaconda3/lib/python3.12/site-packages (from pandas>=1.0.1->bert_score) (2023.3)\n",
            "Requirement already satisfied: filelock in /opt/anaconda3/lib/python3.12/site-packages (from torch>=1.0.0->bert_score) (3.13.1)\n",
            "Requirement already satisfied: typing-extensions>=4.8.0 in /opt/anaconda3/lib/python3.12/site-packages (from torch>=1.0.0->bert_score) (4.11.0)\n",
            "Requirement already satisfied: sympy in /opt/anaconda3/lib/python3.12/site-packages (from torch>=1.0.0->bert_score) (1.12)\n",
            "Requirement already satisfied: networkx in /opt/anaconda3/lib/python3.12/site-packages (from torch>=1.0.0->bert_score) (3.2.1)\n",
            "Requirement already satisfied: jinja2 in /opt/anaconda3/lib/python3.12/site-packages (from torch>=1.0.0->bert_score) (3.1.4)\n",
            "Requirement already satisfied: fsspec in /opt/anaconda3/lib/python3.12/site-packages (from torch>=1.0.0->bert_score) (2024.3.1)\n",
            "Requirement already satisfied: setuptools in /opt/anaconda3/lib/python3.12/site-packages (from torch>=1.0.0->bert_score) (69.5.1)\n",
            "Requirement already satisfied: huggingface-hub<1.0,>=0.24.0 in /opt/anaconda3/lib/python3.12/site-packages (from transformers>=3.0.0->bert_score) (0.28.0)\n",
            "Requirement already satisfied: pyyaml>=5.1 in /opt/anaconda3/lib/python3.12/site-packages (from transformers>=3.0.0->bert_score) (6.0.1)\n",
            "Requirement already satisfied: regex!=2019.12.17 in /opt/anaconda3/lib/python3.12/site-packages (from transformers>=3.0.0->bert_score) (2023.10.3)\n",
            "Requirement already satisfied: tokenizers<0.22,>=0.21 in /opt/anaconda3/lib/python3.12/site-packages (from transformers>=3.0.0->bert_score) (0.21.0)\n",
            "Requirement already satisfied: safetensors>=0.4.1 in /opt/anaconda3/lib/python3.12/site-packages (from transformers>=3.0.0->bert_score) (0.5.2)\n",
            "Requirement already satisfied: contourpy>=1.0.1 in /opt/anaconda3/lib/python3.12/site-packages (from matplotlib->bert_score) (1.2.0)\n",
            "Requirement already satisfied: cycler>=0.10 in /opt/anaconda3/lib/python3.12/site-packages (from matplotlib->bert_score) (0.11.0)\n",
            "Requirement already satisfied: fonttools>=4.22.0 in /opt/anaconda3/lib/python3.12/site-packages (from matplotlib->bert_score) (4.51.0)\n",
            "Requirement already satisfied: kiwisolver>=1.3.1 in /opt/anaconda3/lib/python3.12/site-packages (from matplotlib->bert_score) (1.4.4)\n",
            "Requirement already satisfied: pillow>=8 in /opt/anaconda3/lib/python3.12/site-packages (from matplotlib->bert_score) (10.3.0)\n",
            "Requirement already satisfied: pyparsing>=2.3.1 in /opt/anaconda3/lib/python3.12/site-packages (from matplotlib->bert_score) (3.0.9)\n",
            "Requirement already satisfied: charset-normalizer<4,>=2 in /opt/anaconda3/lib/python3.12/site-packages (from requests->bert_score) (2.0.4)\n",
            "Requirement already satisfied: idna<4,>=2.5 in /opt/anaconda3/lib/python3.12/site-packages (from requests->bert_score) (3.7)\n",
            "Requirement already satisfied: urllib3<3,>=1.21.1 in /opt/anaconda3/lib/python3.12/site-packages (from requests->bert_score) (2.2.2)\n",
            "Requirement already satisfied: certifi>=2017.4.17 in /opt/anaconda3/lib/python3.12/site-packages (from requests->bert_score) (2024.12.14)\n",
            "Requirement already satisfied: MarkupSafe>=2.0 in /opt/anaconda3/lib/python3.12/site-packages (from jinja2->torch>=1.0.0->bert_score) (2.1.3)\n",
            "Requirement already satisfied: mpmath>=0.19 in /opt/anaconda3/lib/python3.12/site-packages (from sympy->torch>=1.0.0->bert_score) (1.3.0)\n",
            "Note: you may need to restart the kernel to use updated packages.\n"
          ]
        }
      ],
      "source": [
        "%pip install rouge bert_score"
      ]
    },
    {
      "cell_type": "code",
      "execution_count": null,
      "id": "aa42a31c-f532-48ff-b2ce-e028823bd286",
      "metadata": {
        "id": "aa42a31c-f532-48ff-b2ce-e028823bd286",
        "outputId": "3ae03239-5c9d-41f7-b0c2-d4f47b7b8082"
      },
      "outputs": [
        {
          "name": "stderr",
          "output_type": "stream",
          "text": [
            "huggingface/tokenizers: The current process just got forked, after parallelism has already been used. Disabling parallelism to avoid deadlocks...\n",
            "To disable this warning, you can either:\n",
            "\t- Avoid using `tokenizers` before the fork if possible\n",
            "\t- Explicitly set the environment variable TOKENIZERS_PARALLELISM=(true | false)\n"
          ]
        },
        {
          "name": "stdout",
          "output_type": "stream",
          "text": [
            "Requirement already satisfied: nltk in /opt/anaconda3/lib/python3.12/site-packages (3.8.1)\n",
            "Requirement already satisfied: click in /opt/anaconda3/lib/python3.12/site-packages (from nltk) (8.1.7)\n",
            "Requirement already satisfied: joblib in /opt/anaconda3/lib/python3.12/site-packages (from nltk) (1.4.2)\n",
            "Requirement already satisfied: regex>=2021.8.3 in /opt/anaconda3/lib/python3.12/site-packages (from nltk) (2023.10.3)\n",
            "Requirement already satisfied: tqdm in /opt/anaconda3/lib/python3.12/site-packages (from nltk) (4.66.4)\n",
            "Note: you may need to restart the kernel to use updated packages.\n"
          ]
        }
      ],
      "source": [
        "%pip install nltk"
      ]
    },
    {
      "cell_type": "code",
      "execution_count": null,
      "id": "8d57ca05-4ee4-4c12-b5d0-a69015bcf15c",
      "metadata": {
        "id": "8d57ca05-4ee4-4c12-b5d0-a69015bcf15c",
        "outputId": "6ef80a7e-d9b7-49a6-c447-7fcb0a50b21a"
      },
      "outputs": [
        {
          "name": "stderr",
          "output_type": "stream",
          "text": [
            "huggingface/tokenizers: The current process just got forked, after parallelism has already been used. Disabling parallelism to avoid deadlocks...\n",
            "To disable this warning, you can either:\n",
            "\t- Avoid using `tokenizers` before the fork if possible\n",
            "\t- Explicitly set the environment variable TOKENIZERS_PARALLELISM=(true | false)\n"
          ]
        },
        {
          "name": "stdout",
          "output_type": "stream",
          "text": [
            "Requirement already satisfied: sacrebleu in /opt/anaconda3/lib/python3.12/site-packages (2.5.1)\n",
            "Requirement already satisfied: portalocker in /opt/anaconda3/lib/python3.12/site-packages (from sacrebleu) (3.1.1)\n",
            "Requirement already satisfied: regex in /opt/anaconda3/lib/python3.12/site-packages (from sacrebleu) (2023.10.3)\n",
            "Requirement already satisfied: tabulate>=0.8.9 in /opt/anaconda3/lib/python3.12/site-packages (from sacrebleu) (0.9.0)\n",
            "Requirement already satisfied: numpy>=1.17 in /opt/anaconda3/lib/python3.12/site-packages (from sacrebleu) (1.26.4)\n",
            "Requirement already satisfied: colorama in /opt/anaconda3/lib/python3.12/site-packages (from sacrebleu) (0.4.6)\n",
            "Requirement already satisfied: lxml in /opt/anaconda3/lib/python3.12/site-packages (from sacrebleu) (5.2.1)\n",
            "Note: you may need to restart the kernel to use updated packages.\n"
          ]
        }
      ],
      "source": [
        "pip install sacrebleu"
      ]
    },
    {
      "cell_type": "code",
      "execution_count": null,
      "id": "d0590252-0086-41dd-bb63-e691457b0296",
      "metadata": {
        "id": "d0590252-0086-41dd-bb63-e691457b0296"
      },
      "outputs": [],
      "source": [
        "from rouge import Rouge\n",
        "from nltk.translate.bleu_score import sentence_bleu\n",
        "from bert_score import score\n",
        "from nltk.translate.bleu_score import corpus_bleu\n",
        "import numpy as np\n",
        "import sacrebleu"
      ]
    },
    {
      "cell_type": "code",
      "execution_count": null,
      "id": "d002877f-71b2-441d-a18c-9ac525f0097d",
      "metadata": {
        "id": "d002877f-71b2-441d-a18c-9ac525f0097d"
      },
      "outputs": [],
      "source": [
        "summaries = {\n",
        "    \"facebook/bart-large-cnn\": summary1,\n",
        "    \"Falconsai/text_summarization\": summary2,\n",
        "    \"google/pegasus-cnn_dailymail\": summary3,\n",
        "    \"csebuetnlp/mT5_multilingual_XLSum\": summary4\n",
        "}"
      ]
    },
    {
      "cell_type": "code",
      "execution_count": null,
      "id": "dd083d43-7e4d-4e08-ab0a-d75362d18ce5",
      "metadata": {
        "id": "dd083d43-7e4d-4e08-ab0a-d75362d18ce5",
        "outputId": "811b7ab5-f595-4efc-967b-ce50e48ab987"
      },
      "outputs": [
        {
          "data": {
            "text/plain": [
              "{'facebook/bart-large-cnn': \"U.S consumer advisory group set up by Department of Transportation said that while the government is happy to set standards for animals flying on planes, it doesn't stipulate a minimum amount of space for humans. Tests conducted by the FAA use planes with a 31 inch pitch, a standard which on some airlines has decreased.\",\n",
              " 'Falconsai/text_summarization': \"a consumer advisory group set up by the Department of Transportation said this week that while the government is happy to set standards for animals flying on planes, it doesn't stipulate a minimum amount of space for humans . Many economy seats on United Airlines have 30 inches of space, while some airlines offer as little as 28 inches . The distance between two seats from one point on a seat to the same point on the seat behind it is known as the pitch .\",\n",
              " 'google/pegasus-cnn_dailymail': 'Many economy seats on United Airlines have 30 inches of room .<n>Some airlines offer as little as 28 inches of space .<n>The FAA conducts tests on how quickly passengers can leave a plane .<n>These tests are conducted using planes with 31 inches between each row .<n>While most airlines stick to a pitch of 31 inches or above, some fall below this .',\n",
              " 'csebuetnlp/mT5_multilingual_XLSum': 'A growing number of passengers are taking to the skies with their planes, but what does it mean for those flying?'}"
            ]
          },
          "execution_count": 23,
          "metadata": {},
          "output_type": "execute_result"
        }
      ],
      "source": [
        "summaries"
      ]
    },
    {
      "cell_type": "code",
      "execution_count": null,
      "id": "30e6d0ff-6bdc-4bed-817d-3ab8df3d151f",
      "metadata": {
        "id": "30e6d0ff-6bdc-4bed-817d-3ab8df3d151f"
      },
      "outputs": [],
      "source": [
        "reference = reference_summary"
      ]
    },
    {
      "cell_type": "code",
      "execution_count": null,
      "id": "a71d0e7f-3016-4c3b-a46c-2755ada7d616",
      "metadata": {
        "id": "a71d0e7f-3016-4c3b-a46c-2755ada7d616"
      },
      "outputs": [],
      "source": [
        "rouge = Rouge()"
      ]
    },
    {
      "cell_type": "code",
      "execution_count": null,
      "id": "dbf70f34-2ac2-4fe1-8d8f-fab9ba9014e1",
      "metadata": {
        "id": "dbf70f34-2ac2-4fe1-8d8f-fab9ba9014e1"
      },
      "outputs": [],
      "source": [
        "results = {}"
      ]
    },
    {
      "cell_type": "code",
      "execution_count": null,
      "id": "0fff3087-c41a-437e-8ab4-3f78166e8bae",
      "metadata": {
        "id": "0fff3087-c41a-437e-8ab4-3f78166e8bae",
        "outputId": "9d860376-90d6-4fea-f766-8f1585b103f0"
      },
      "outputs": [
        {
          "name": "stderr",
          "output_type": "stream",
          "text": [
            "Some weights of RobertaModel were not initialized from the model checkpoint at roberta-large and are newly initialized: ['roberta.pooler.dense.bias', 'roberta.pooler.dense.weight']\n",
            "You should probably TRAIN this model on a down-stream task to be able to use it for predictions and inference.\n",
            "Some weights of RobertaModel were not initialized from the model checkpoint at roberta-large and are newly initialized: ['roberta.pooler.dense.bias', 'roberta.pooler.dense.weight']\n",
            "You should probably TRAIN this model on a down-stream task to be able to use it for predictions and inference.\n",
            "Some weights of RobertaModel were not initialized from the model checkpoint at roberta-large and are newly initialized: ['roberta.pooler.dense.bias', 'roberta.pooler.dense.weight']\n",
            "You should probably TRAIN this model on a down-stream task to be able to use it for predictions and inference.\n",
            "Some weights of RobertaModel were not initialized from the model checkpoint at roberta-large and are newly initialized: ['roberta.pooler.dense.bias', 'roberta.pooler.dense.weight']\n",
            "You should probably TRAIN this model on a down-stream task to be able to use it for predictions and inference.\n"
          ]
        }
      ],
      "source": [
        "for model, generated in summaries.items():\n",
        "    rouge_scores = rouge.get_scores(generated, reference, avg=True)\n",
        "    bleu_score = sacrebleu.sentence_bleu(generated, [reference]).score\n",
        "    P, R, F1 = score([generated], [reference], lang=\"en\")\n",
        "\n",
        "    results[model] = {\n",
        "        \"ROUGE-1\": rouge_scores[\"rouge-1\"][\"f\"],\n",
        "        \"ROUGE-2\": rouge_scores[\"rouge-2\"][\"f\"],\n",
        "        \"ROUGE-L\": rouge_scores[\"rouge-l\"][\"f\"],\n",
        "        \"BLEU\": bleu_score,\n",
        "        \"BERTScore\": F1.mean().item()\n",
        "    }"
      ]
    },
    {
      "cell_type": "code",
      "execution_count": null,
      "id": "07c9cacd-264c-4031-bc07-470918627ee6",
      "metadata": {
        "id": "07c9cacd-264c-4031-bc07-470918627ee6",
        "outputId": "2fb81cfa-c9a7-4296-fc77-0d9f11c122b4"
      },
      "outputs": [
        {
          "name": "stdout",
          "output_type": "stream",
          "text": [
            "Evaluation Metrics:\n",
            "                                     ROUGE-1   ROUGE-2   ROUGE-L       BLEU  \\\n",
            "facebook/bart-large-cnn            0.296296  0.113636  0.296296  10.177932   \n",
            "Falconsai/text_summarization       0.172043  0.052632  0.172043   2.559016   \n",
            "google/pegasus-cnn_dailymail       0.265060  0.043956  0.265060   1.795772   \n",
            "csebuetnlp/mT5_multilingual_XLSum  0.111111  0.000000  0.074074   1.213066   \n",
            "\n",
            "                                   BERTScore  \n",
            "facebook/bart-large-cnn             0.866978  \n",
            "Falconsai/text_summarization        0.854360  \n",
            "google/pegasus-cnn_dailymail        0.846462  \n",
            "csebuetnlp/mT5_multilingual_XLSum   0.847541  \n"
          ]
        }
      ],
      "source": [
        "df_metrics = pd.DataFrame.from_dict(results, orient=\"index\")\n",
        "print(\"Evaluation Metrics:\\n\", df_metrics)"
      ]
    },
    {
      "cell_type": "code",
      "execution_count": null,
      "id": "5d889749-1199-411e-add5-f794ee5043cb",
      "metadata": {
        "id": "5d889749-1199-411e-add5-f794ee5043cb"
      },
      "outputs": [],
      "source": [
        "from sklearn.preprocessing import MinMaxScaler"
      ]
    },
    {
      "cell_type": "code",
      "execution_count": null,
      "id": "b6ae73c0-1001-4e0a-9440-255cd5a1e871",
      "metadata": {
        "id": "b6ae73c0-1001-4e0a-9440-255cd5a1e871"
      },
      "outputs": [],
      "source": [
        "scaler = MinMaxScaler()\n",
        "normalized_matrix = scaler.fit_transform(df_metrics)"
      ]
    },
    {
      "cell_type": "code",
      "execution_count": null,
      "id": "ab775ffa-1d46-472c-8713-f2361fdc7c3e",
      "metadata": {
        "id": "ab775ffa-1d46-472c-8713-f2361fdc7c3e"
      },
      "outputs": [],
      "source": [
        "weights = np.array([0.25, 0.25, 0.25, 0.15, 0.10])"
      ]
    },
    {
      "cell_type": "code",
      "execution_count": null,
      "id": "bf51f2c1-cbee-4d3a-8602-ed60770885b4",
      "metadata": {
        "id": "bf51f2c1-cbee-4d3a-8602-ed60770885b4"
      },
      "outputs": [],
      "source": [
        "weighted_matrix = normalized_matrix * weights\n",
        "ideal_best = np.max(weighted_matrix, axis=0)\n",
        "ideal_worst = np.min(weighted_matrix, axis=0)\n",
        "distance_best = np.linalg.norm(weighted_matrix - ideal_best, axis=1)\n",
        "distance_worst = np.linalg.norm(weighted_matrix - ideal_worst, axis=1)\n",
        "topsis_scores = distance_worst / (distance_best + distance_worst)"
      ]
    },
    {
      "cell_type": "code",
      "execution_count": null,
      "id": "1f8ca806-2ef9-4118-a127-4eb074be6321",
      "metadata": {
        "id": "1f8ca806-2ef9-4118-a127-4eb074be6321"
      },
      "outputs": [],
      "source": [
        "df_metrics[\"TOPSIS Score\"] = topsis_scores\n",
        "df_metrics[\"Rank\"] = df_metrics[\"TOPSIS Score\"].rank(ascending=False)"
      ]
    },
    {
      "cell_type": "code",
      "execution_count": null,
      "id": "5d9f6680-e845-49ed-b78b-f32bf72cd257",
      "metadata": {
        "id": "5d9f6680-e845-49ed-b78b-f32bf72cd257",
        "outputId": "d1115b4c-55f9-409c-9549-a5fbceb985e0"
      },
      "outputs": [
        {
          "name": "stdout",
          "output_type": "stream",
          "text": [
            "\n",
            "Final Ranking based on TOPSIS:\n",
            "                                     ROUGE-1   ROUGE-2   ROUGE-L       BLEU  \\\n",
            "facebook/bart-large-cnn            0.296296  0.113636  0.296296  10.177932   \n",
            "google/pegasus-cnn_dailymail       0.265060  0.043956  0.265060   1.795772   \n",
            "Falconsai/text_summarization       0.172043  0.052632  0.172043   2.559016   \n",
            "csebuetnlp/mT5_multilingual_XLSum  0.111111  0.000000  0.074074   1.213066   \n",
            "\n",
            "                                   BERTScore  TOPSIS Score  Rank  \n",
            "facebook/bart-large-cnn             0.866978      1.000000   1.0  \n",
            "google/pegasus-cnn_dailymail        0.846462      0.570102   2.0  \n",
            "Falconsai/text_summarization        0.854360      0.387496   3.0  \n",
            "csebuetnlp/mT5_multilingual_XLSum   0.847541      0.011114   4.0  \n"
          ]
        }
      ],
      "source": [
        "print(\"\\nFinal Ranking based on TOPSIS:\\n\", df_metrics.sort_values(\"Rank\"))"
      ]
    },
    {
      "cell_type": "code",
      "execution_count": null,
      "id": "9645107a-bc9c-4a21-b090-bf123f802d58",
      "metadata": {
        "id": "9645107a-bc9c-4a21-b090-bf123f802d58"
      },
      "outputs": [],
      "source": [
        "df_metrics.to_csv(\"results.csv\",index=True)"
      ]
    },
    {
      "cell_type": "code",
      "execution_count": null,
      "id": "684557df-c191-4250-8f44-4edd2318d20c",
      "metadata": {
        "id": "684557df-c191-4250-8f44-4edd2318d20c"
      },
      "outputs": [],
      "source": []
    }
  ],
  "metadata": {
    "kernelspec": {
      "display_name": "Python 3 (ipykernel)",
      "language": "python",
      "name": "python3"
    },
    "language_info": {
      "codemirror_mode": {
        "name": "ipython",
        "version": 3
      },
      "file_extension": ".py",
      "mimetype": "text/x-python",
      "name": "python",
      "nbconvert_exporter": "python",
      "pygments_lexer": "ipython3",
      "version": "3.12.4"
    },
    "colab": {
      "provenance": [],
      "include_colab_link": true
    }
  },
  "nbformat": 4,
  "nbformat_minor": 5
}